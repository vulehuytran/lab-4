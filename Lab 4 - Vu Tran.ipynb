{
 "cells": [
  {
   "cell_type": "code",
   "execution_count": 2,
   "metadata": {},
   "outputs": [
    {
     "data": {
      "text/plain": [
       "<sqlite3.Cursor at 0x103cc5ea0>"
      ]
     },
     "execution_count": 2,
     "metadata": {},
     "output_type": "execute_result"
    }
   ],
   "source": [
    "# create genes table\n",
    "\n",
    "import sqlite3\n",
    "conn = sqlite3.connect(\"vutran.db\")\n",
    "c = conn.cursor()\n",
    "\n",
    "c.execute(\"\"\" CREATE TABLE genes (id INT,\n",
    "                                  name TXT,\n",
    "                                  description TXT,\n",
    "                                  organism TXT,\n",
    "                                  nu_sequence TXT,\n",
    "                                  chromosome TXT,\n",
    "                                  start INT,\n",
    "                                  end INT,\n",
    "                                  strand VARCHAR(1),\n",
    "                                  translated_sequence TXT);\"\"\")"
   ]
  },
  {
   "cell_type": "code",
   "execution_count": 3,
   "metadata": {},
   "outputs": [
    {
     "data": {
      "text/plain": [
       "<sqlite3.Cursor at 0x103cc5ea0>"
      ]
     },
     "execution_count": 3,
     "metadata": {},
     "output_type": "execute_result"
    }
   ],
   "source": [
    "# create enzymes table\n",
    "\n",
    "c.execute(\"\"\" CREATE TABLE enzymes (id INT,\n",
    "                                    name TXT,\n",
    "                                    function TXT,\n",
    "                                    ec_number TXT,\n",
    "                                    organism TXT,\n",
    "                                    aa_sequence);\"\"\")"
   ]
  },
  {
   "cell_type": "code",
   "execution_count": 4,
   "metadata": {},
   "outputs": [
    {
     "data": {
      "text/plain": [
       "<sqlite3.Cursor at 0x103cc5ea0>"
      ]
     },
     "execution_count": 4,
     "metadata": {},
     "output_type": "execute_result"
    }
   ],
   "source": [
    "# create pathways table\n",
    "\n",
    "c.execute(\"\"\" CREATE TABLE pathways (id INT,\n",
    "                                     name TXT,\n",
    "                                     description TXT,\n",
    "                                     organism TXT);\"\"\")"
   ]
  },
  {
   "cell_type": "code",
   "execution_count": 5,
   "metadata": {},
   "outputs": [
    {
     "data": {
      "text/plain": [
       "<sqlite3.Cursor at 0x103cc5ea0>"
      ]
     },
     "execution_count": 5,
     "metadata": {},
     "output_type": "execute_result"
    }
   ],
   "source": [
    "# create associative tables\n",
    "\n",
    "c.execute(\"CREATE TABLE genes_in_enzymes (enzyme_id INT, gene_id INT);\")\n",
    "c.execute(\"CREATE TABLE enzymes_in_pathways (pathway_id INT, enzyme_id INT);\")"
   ]
  },
  {
   "cell_type": "code",
   "execution_count": 6,
   "metadata": {},
   "outputs": [],
   "source": [
    "# KEGG Pathway Database:\n",
    "# glycolysis: https://www.genome.jp/kegg-bin/show_pathway?map00010\n",
    "# TCA cycle: https://www.genome.jp/kegg-bin/show_pathway?map00020\n",
    "# pentose phosphate: https://www.genome.jp/kegg-bin/show_pathway?map00030\n",
    "\n",
    "# search pathway from KEGG database\n",
    "\n",
    "from Bio.KEGG import REST"
   ]
  },
  {
   "cell_type": "code",
   "execution_count": 7,
   "metadata": {},
   "outputs": [
    {
     "data": {
      "text/plain": [
       "[u'path:hsa00010\\tGlycolysis / Gluconeogenesis - Homo sapiens (human)',\n",
       " u'path:hsa00020\\tCitrate cycle (TCA cycle) - Homo sapiens (human)',\n",
       " u'path:hsa00030\\tPentose phosphate pathway - Homo sapiens (human)',\n",
       " u'path:hsa00040\\tPentose and glucuronate interconversions - Homo sapiens (human)',\n",
       " u'path:hsa00051\\tFructose and mannose metabolism - Homo sapiens (human)']"
      ]
     },
     "execution_count": 7,
     "metadata": {},
     "output_type": "execute_result"
    }
   ],
   "source": [
    "# get a list of all human pathways from KEGG\n",
    "\n",
    "human_pathways = REST.kegg_list(\"pathway\", \"hsa\").read()\n",
    "human_pathways.decode(\"utf-8\").split(\"\\n\")[0:5]"
   ]
  },
  {
   "cell_type": "code",
   "execution_count": 8,
   "metadata": {},
   "outputs": [
    {
     "name": "stdout",
     "output_type": "stream",
     "text": [
      "ENTRY       hsa00010                    Pathway\n",
      "NAME        Glycolysis / Gluconeogenesis - Homo sapiens (human)\n",
      "DESCRIPTION Glycolysis is the process of converting glucose into pyruvate and generating small amounts of ATP (energy) and NADH (reducing power). It is a central pathway that produces important precursor metabolites: six-carbon compounds of glucose-6P and fructose-6P and three-carbon compounds of glycerone-P, glyceraldehyde-3P, glycerate-3P, phosphoenolpyruvate, and pyruvate [MD:M00001]. Acetyl-CoA, another important precursor metabolite, is produced by oxidative decarboxylation of pyruvate [MD:M00307]. When the enzyme genes of this pathway are examined in completely sequenced genomes, the reaction steps of three-carbon compounds from glycerone-P to pyruvate form a conserved core module [MD:M00002], which is found in almost all organisms and which sometimes contains operon structures in bacterial genomes. Gluconeogenesis is a synthesis pathway of glucose from noncarbohydrate precursors. It is essentially a reversal of glycolysis with minor variations of alternative paths [MD:M00003].\n",
      "CLASS       Metabolism; Carbohydrate metabolism\n",
      "PATHWAY_MAP hsa00010  Glycolysis / Gluconeogenesis\n",
      "MODULE      hsa_M00001  Glycolysis (Embden-Meyerhof pathway), glucose => pyruvate [PATH:hsa00010]\n",
      "            hsa_M00002  Glycolysis, core module involving three-carbon compounds [PATH:hsa00010]\n",
      "            hsa_M00003  Gluconeogenesis, oxaloacetate => fructose-6P [PATH:hsa00010]\n",
      "            hsa_M00307  Pyruvate oxidation, pyruvate => acetyl-CoA [PATH:hsa00010]\n",
      "DISEASE     H00069  Glycogen storage disease\n",
      "[...]\n"
     ]
    }
   ],
   "source": [
    "from Bio.KEGG.REST import *\n",
    "from Bio.KEGG.KGML import KGML_parser\n",
    "from Bio.KEGG.KGML.KGML_parser import read\n",
    "\n",
    "def head(text, lines=10):\n",
    "    \"\"\" Print the first lines lines of the passed text.\n",
    "    \"\"\"\n",
    "    print '\\n'.join(text.split('\\n')[:lines] + ['[...]'])\n",
    "\n",
    "head(kegg_get(\"hsa00010\").read())"
   ]
  },
  {
   "cell_type": "code",
   "execution_count": 12,
   "metadata": {},
   "outputs": [
    {
     "name": "stdout",
     "output_type": "stream",
     "text": [
      "(1, u'glycolysis', u'Glycolysis is the process of converting glucose into pyruvate and generating small amounts of ATP (energy) and NADH (reducing power). It is a central pathway that produces important precursor metabolites: six-carbon compounds of glucose-6P and fructose-6P and three-carbon compounds of glycerone-P, glyceraldehyde-3P, glycerate-3P, phosphoenolpyruvate, and pyruvate [MD:M00001]. Acetyl-CoA, another important precursor metabolite, is produced by oxidative decarboxylation of pyruvate [MD:M00307]. When the enzyme genes of this pathway are examined in completely sequenced genomes, the reaction steps of three-carbon compounds from glycerone-P to pyruvate form a conserved core module [MD:M00002], which is found in almost all organisms and which sometimes contains operon structures in bacterial genomes. Gluconeogenesis is a synthesis pathway of glucose from noncarbohydrate precursors. It is essentially a reversal of glycolysis with minor variations of alternative paths [MD:M00003].', u'human')\n"
     ]
    }
   ],
   "source": [
    "c.execute(\"\"\" INSERT INTO pathways (id, name, description, organism) \n",
    "VALUES (1, 'glycolysis', 'Glycolysis is the process of converting glucose into pyruvate and generating small amounts of ATP (energy) and NADH (reducing power). It is a central pathway that produces important precursor metabolites: six-carbon compounds of glucose-6P and fructose-6P and three-carbon compounds of glycerone-P, glyceraldehyde-3P, glycerate-3P, phosphoenolpyruvate, and pyruvate [MD:M00001]. Acetyl-CoA, another important precursor metabolite, is produced by oxidative decarboxylation of pyruvate [MD:M00307]. When the enzyme genes of this pathway are examined in completely sequenced genomes, the reaction steps of three-carbon compounds from glycerone-P to pyruvate form a conserved core module [MD:M00002], which is found in almost all organisms and which sometimes contains operon structures in bacterial genomes. Gluconeogenesis is a synthesis pathway of glucose from noncarbohydrate precursors. It is essentially a reversal of glycolysis with minor variations of alternative paths [MD:M00003].', 'human');\"\"\")\n",
    "conn.commit()\n",
    "\n",
    "c.execute(\" SELECT*FROM pathways WHERE name='glycolysis';\")\n",
    "print(c.fetchone())"
   ]
  },
  {
   "cell_type": "code",
   "execution_count": 13,
   "metadata": {},
   "outputs": [
    {
     "data": {
      "image/png": "[encoded data removed]",
      "text/plain": [
       "<IPython.core.display.Image object>"
      ]
     },
     "execution_count": 13,
     "metadata": {},
     "output_type": "execute_result"
    }
   ],
   "source": [
    "from IPython.display import Image, HTML\n",
    "\n",
    "Image(kegg_get(\"hsa00010\", \"image\").read())"
   ]
  },
  {
   "cell_type": "code",
   "execution_count": 14,
   "metadata": {},
   "outputs": [
    {
     "name": "stdout",
     "output_type": "stream",
     "text": [
      "--2018-09-20 00:01:48--  http://rest.kegg.jp/get/ec:3.1.3.10\n",
      "Resolving rest.kegg.jp (rest.kegg.jp)... 133.103.200.77\n",
      "Connecting to rest.kegg.jp (rest.kegg.jp)|133.103.200.77|:80... connected.\n",
      "HTTP request sent, awaiting response... 200 OK\n",
      "Length: unspecified [text/plain]\n",
      "Saving to: ‘hsa_ec_3.1.3.10.txt’\n",
      "\n",
      "hsa_ec_3.1.3.10.txt     [  <=>               ]  30.35K  80.1KB/s    in 0.4s    \n",
      "\n",
      "2018-09-20 00:01:49 (80.1 KB/s) - ‘hsa_ec_3.1.3.10.txt’ saved [31074]\n",
      "\n"
     ]
    }
   ],
   "source": [
    "\"\"\" from the image above, pick 4 enzymes:  \n",
    "ec: 3.1.3.10\n",
    "ec: 5.4.2.2\n",
    "ec: 5.3.1.1\n",
    "ec: 2.7.1.40\"\"\"\n",
    "\n",
    "from Bio.KEGG import Enzyme\n",
    "\n",
    "# save ec: 3.1.3.10 into a text file\n",
    "\n",
    "!wget http://rest.kegg.jp/get/ec:3.1.3.10 -O hsa_ec_3.1.3.10.txt"
   ]
  },
  {
   "cell_type": "code",
   "execution_count": 15,
   "metadata": {},
   "outputs": [
    {
     "data": {
      "text/plain": [
       "['glucose-1-phosphatase']"
      ]
     },
     "execution_count": 15,
     "metadata": {},
     "output_type": "execute_result"
    }
   ],
   "source": [
    "# https://biopython.org/DIST/docs/api/Bio.KEGG.Enzyme.Record-class.html\n",
    "\n",
    "records = Enzyme.parse(open('hsa_ec_3.1.3.10.txt'))\n",
    "record = list(records)[0]\n",
    "record.name # name in enzyme table"
   ]
  },
  {
   "cell_type": "code",
   "execution_count": 16,
   "metadata": {},
   "outputs": [
    {
     "data": {
      "text/plain": [
       "['alpha-D-glucose 1-phosphate + H2O = D-glucose + phosphate [RN:R00304]']"
      ]
     },
     "execution_count": 16,
     "metadata": {},
     "output_type": "execute_result"
    }
   ],
   "source": [
    "record.reaction # function in enzyme table"
   ]
  },
  {
   "cell_type": "code",
   "execution_count": 17,
   "metadata": {},
   "outputs": [
    {
     "data": {
      "text/plain": [
       "'3.1.3.10'"
      ]
     },
     "execution_count": 17,
     "metadata": {},
     "output_type": "execute_result"
    }
   ],
   "source": [
    "record.entry # ec_number in enzyme table"
   ]
  },
  {
   "cell_type": "code",
   "execution_count": 22,
   "metadata": {},
   "outputs": [
    {
     "ename": "SyntaxError",
     "evalue": "invalid syntax (<ipython-input-22-f86b13fe2c17>, line 5)",
     "output_type": "error",
     "traceback": [
      "\u001b[0;36m  File \u001b[0;32m\"<ipython-input-22-f86b13fe2c17>\"\u001b[0;36m, line \u001b[0;32m5\u001b[0m\n\u001b[0;31m    conn.commit()\u001b[0m\n\u001b[0m       ^\u001b[0m\n\u001b[0;31mSyntaxError\u001b[0m\u001b[0;31m:\u001b[0m invalid syntax\n"
     ]
    }
   ],
   "source": [
    "# input these data into enzyme table for ec: 3.1.3.10\n",
    "\n",
    "c.execute(\"\"\" INSERT INTO enzymes (id, name, function, ec_number, organism)\n",
    "                        VALUES    (1, ?, ?, ?, 'human'),\"\"\" (str(record.name), str(record.reaction), str(record.entry))\n",
    "conn.commit()\n",
    "\n",
    "c.execute(\"SELECT*FROM enzymes WHERE ec_number='3.1.3.10';\")"
   ]
  },
  {
   "cell_type": "code",
   "execution_count": null,
   "metadata": {},
   "outputs": [],
   "source": []
  }
 ],
 "metadata": {
  "kernelspec": {
   "display_name": "Python 2",
   "language": "python",
   "name": "python2"
  },
  "language_info": {
   "codemirror_mode": {
    "name": "ipython",
    "version": 2
   },
   "file_extension": ".py",
   "mimetype": "text/x-python",
   "name": "python",
   "nbconvert_exporter": "python",
   "pygments_lexer": "ipython2",
   "version": "2.7.15"
  }
 },
 "nbformat": 4,
 "nbformat_minor": 2
}
